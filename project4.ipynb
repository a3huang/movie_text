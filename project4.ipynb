{
 "cells": [
  {
   "cell_type": "code",
   "execution_count": 1,
   "metadata": {
    "collapsed": true
   },
   "outputs": [],
   "source": [
    "from bs4 import BeautifulSoup\n",
    "from nltk.tokenize import word_tokenize, wordpunct_tokenize, RegexpTokenizer\n",
    "from nltk.corpus import stopwords\n",
    "from nltk.stem.porter import PorterStemmer\n",
    "from gensim import corpora, models, matutils\n",
    "from sklearn.feature_extraction.text import TfidfVectorizer, CountVectorizer\n",
    "from sklearn import preprocessing, cluster\n",
    "from ipyparallel import Client\n",
    "from pymongo import MongoClient\n",
    "import pandas as pd\n",
    "import numpy as np\n",
    "import requests\n",
    "import json\n",
    "import time\n",
    "import re\n",
    "import matplotlib.pyplot as plt\n",
    "%matplotlib inline"
   ]
  },
  {
   "cell_type": "markdown",
   "metadata": {},
   "source": [
    "# Roger Ebert"
   ]
  },
  {
   "cell_type": "code",
   "execution_count": null,
   "metadata": {
    "collapsed": false
   },
   "outputs": [],
   "source": [
    "# roger ebert scraper\n",
    "def get_roger(url):\n",
    "    response = requests.get(url)\n",
    "    page = response.text\n",
    "    soup = BeautifulSoup(page, 'lxml')\n",
    "    \n",
    "    title = soup.find(\"h1\", {\"itemprop\" : \"name\"}).text\n",
    "    \n",
    "    review_text = soup.find(\"div\", {\"itemprop\" : \"reviewBody\"}).text\n",
    "    \n",
    "    site = \"roger\"\n",
    "    \n",
    "    score = int(float(soup.find(\"meta\", {\"itemprop\" : \"ratingValue\"})['content']))\n",
    "    \n",
    "    return [title, review_text, site, score]\n",
    "\n",
    "print get_roger(\"http://www.rogerebert.com/reviews/petes-dragon-2016\")"
   ]
  },
  {
   "cell_type": "markdown",
   "metadata": {},
   "source": [
    "### test scraping pages normally"
   ]
  },
  {
   "cell_type": "code",
   "execution_count": null,
   "metadata": {
    "collapsed": false
   },
   "outputs": [],
   "source": [
    "client = MongoClient()\n",
    "db = client.review_db\n",
    "reviews = db.review_col\n",
    "\n",
    "headers = ['Title', 'Text', 'Site', 'Sentiment']\n",
    "\n",
    "# up to page 412\n",
    "for i in range(1, 2):\n",
    "    url = \"http://www.rogerebert.com/reviews/page/%d/\" % i\n",
    "    response = requests.get(url)\n",
    "    page = response.text\n",
    "    soup = BeautifulSoup(page, 'lxml')\n",
    "    for node in soup.find_all('a', {\"class\" : \"poster\"}):\n",
    "        try:\n",
    "            row_dict = dict(zip(headers, get_roger(\"http://www.rogerebert.com\" + node['href'])))\n",
    "            reviews.insert_one(row_dict)\n",
    "        except:\n",
    "            print \"Error on page %d\" % i\n",
    "            continue\n",
    "    if i % 50 == 0:\n",
    "        print \"Finished Iteration %d\" % i\n",
    "    time.sleep(3)"
   ]
  },
  {
   "cell_type": "markdown",
   "metadata": {},
   "source": [
    "### scrape pages in parallel now"
   ]
  },
  {
   "cell_type": "code",
   "execution_count": null,
   "metadata": {
    "collapsed": false
   },
   "outputs": [],
   "source": [
    "from ipyparallel import Client\n",
    "rc = Client()\n",
    "dv = rc[:]\n",
    "\n",
    "@dv.parallel()\n",
    "def dump_roger(it):\n",
    "    from p4scrape import get_roger\n",
    "    from bs4 import BeautifulSoup\n",
    "    from pymongo import MongoClient\n",
    "    import time, requests\n",
    "    \n",
    "    client = MongoClient()\n",
    "    db = client.review_db\n",
    "    reviews = db.review_col\n",
    "    \n",
    "    headers = ['Title', 'Text', 'Site', 'Score']\n",
    "    for i in it:\n",
    "        url = \"http://www.rogerebert.com/reviews/page/%d/\" % i\n",
    "        response = requests.get(url)\n",
    "        page = response.text\n",
    "        soup = BeautifulSoup(page, 'lxml')\n",
    "        for node in soup.find_all('a', {\"class\" : \"poster\"}):\n",
    "            try:\n",
    "                row_dict = dict(zip(headers, get_roger(\"http://www.rogerebert.com\" + node['href'])))\n",
    "                reviews.insert_one(row_dict)\n",
    "            except:\n",
    "                print \"Error on page %d\" % i,\n",
    "                continue\n",
    "        if i % 50 == 0:\n",
    "            print \"Finished Iteration %d\" % i\n",
    "        time.sleep(3)\n",
    "\n",
    "async = dump_roger(range(1, 413))"
   ]
  },
  {
   "cell_type": "code",
   "execution_count": null,
   "metadata": {
    "collapsed": false
   },
   "outputs": [],
   "source": [
    "print async.ready()\n",
    "print async.stdout[0]\n",
    "print async.elapsed\n",
    "\n",
    "# 1595.012229 = 26 minutes"
   ]
  },
  {
   "cell_type": "code",
   "execution_count": null,
   "metadata": {
    "collapsed": false
   },
   "outputs": [],
   "source": [
    "print client.database_names()\n",
    "print client.review_db.collection_names()\n",
    "print client.review_db.review_col.count()"
   ]
  },
  {
   "cell_type": "markdown",
   "metadata": {},
   "source": [
    "# The Guardian"
   ]
  },
  {
   "cell_type": "code",
   "execution_count": 2,
   "metadata": {
    "collapsed": false
   },
   "outputs": [],
   "source": [
    "# the guardian scraper\n",
    "def get_guar(url):\n",
    "    response = requests.get(url)\n",
    "    page = response.text\n",
    "    soup = BeautifulSoup(page, 'lxml')\n",
    "    \n",
    "    title = soup.find(\"h1\", {\"class\" : \"content__headline js-score\"}).text\n",
    "    title = re.search(r'(.*) review', title).group(1)\n",
    "    \n",
    "    review_text = soup.find(\"div\", { \"itemprop\" : \"reviewBody\" }).text\n",
    "    \n",
    "    site = \"guardian\"\n",
    "    \n",
    "    raw_score = int(float(soup.find(\"span\", {\"itemprop\" : \"ratingValue\"}).text))\n",
    "    score = 4 if raw_score > 4 else raw_score\n",
    "    \n",
    "    return [title, review_text, site, score]"
   ]
  },
  {
   "cell_type": "markdown",
   "metadata": {},
   "source": [
    "### test scraping pages normally"
   ]
  },
  {
   "cell_type": "code",
   "execution_count": null,
   "metadata": {
    "collapsed": false
   },
   "outputs": [],
   "source": [
    "client = MongoClient()\n",
    "db = client.review_db\n",
    "rev2 = db.rev_col2\n",
    "\n",
    "headers = ['Title', 'Text', 'Site', 'Score']\n",
    "\n",
    "# up to page 441\n",
    "for i in range(1, 2):\n",
    "    url = \"https://www.theguardian.com/film+tone/reviews?page=%d\" % i\n",
    "    response = requests.get(url)\n",
    "    page = response.text\n",
    "    soup = BeautifulSoup(page, 'lxml')\n",
    "    for node in soup.find_all('a', {\"class\" : \"u-faux-block-link__overlay js-headline-text\"}):\n",
    "        try:\n",
    "            row_dict = dict(zip(headers, get_guar(node['href'])))\n",
    "            print row_dict['Title']\n",
    "            #rev2.insert_one(row_dict)\n",
    "        except:\n",
    "            print \"Error on page %d\" % i\n",
    "            continue\n",
    "    if i % 50 == 0:\n",
    "        print \"Finished Iteration %d\" % i\n",
    "    time.sleep(3)"
   ]
  },
  {
   "cell_type": "markdown",
   "metadata": {},
   "source": [
    "### scraping pages in parallel now"
   ]
  },
  {
   "cell_type": "code",
   "execution_count": 7,
   "metadata": {
    "collapsed": false
   },
   "outputs": [],
   "source": [
    "from ipyparallel import Client\n",
    "rc = Client()\n",
    "dv = rc[:]\n",
    "\n",
    "@dv.parallel()\n",
    "def dump_guardian(it):\n",
    "    import requests, time, re\n",
    "    from p4scrape import get_guar\n",
    "    from bs4 import BeautifulSoup\n",
    "    from pymongo import MongoClient\n",
    "    \n",
    "    client = MongoClient()\n",
    "    db = client.review_db\n",
    "    rev2 = db.rev_col2\n",
    "\n",
    "    headers = ['Title', 'Text', 'Site', 'Score']\n",
    "    for i in it:\n",
    "        url = \"https://www.theguardian.com/film+tone/reviews?page=%d\" % i\n",
    "        response = requests.get(url)\n",
    "        page = response.text\n",
    "        soup = BeautifulSoup(page, 'lxml')\n",
    "        for node in soup.find_all('a', {\"class\" : \"u-faux-block-link__overlay js-headline-text\"}):\n",
    "            try: # just skip movies without ratings\n",
    "                row_dict = dict(zip(headers, get_guar(node['href'])))\n",
    "                #print row_dict['Title']\n",
    "                rev2.insert_one(row_dict)\n",
    "            except:\n",
    "                print \"Error on page %d\" % i\n",
    "                continue\n",
    "        if i % 50 == 0:\n",
    "            print \"Finished Iteration %d\" % i\n",
    "        time.sleep(3)\n",
    "\n",
    "async = dump_guardian(range(1, 442))"
   ]
  },
  {
   "cell_type": "code",
   "execution_count": null,
   "metadata": {
    "collapsed": false
   },
   "outputs": [],
   "source": [
    "print async.ready()\n",
    "print async.stdout[0]\n",
    "print async.elapsed\n",
    "\n",
    "# 2201.778616 = 36 minutes"
   ]
  },
  {
   "cell_type": "code",
   "execution_count": null,
   "metadata": {
    "collapsed": false
   },
   "outputs": [],
   "source": [
    "print client.database_names()\n",
    "print client.review_db.collection_names()\n",
    "print rev2.count()"
   ]
  },
  {
   "cell_type": "markdown",
   "metadata": {},
   "source": [
    "# New York Times"
   ]
  },
  {
   "cell_type": "code",
   "execution_count": 115,
   "metadata": {
    "collapsed": false
   },
   "outputs": [],
   "source": [
    "# new york times scraper\n",
    "def get_ny(url):\n",
    "    response = requests.get(url)\n",
    "    page = response.text\n",
    "    soup = BeautifulSoup(page, 'lxml')\n",
    "    \n",
    "    title = soup.find(\"h4\", {\"class\" : \"review-heading\"}).text\n",
    "    \n",
    "    site = \"new york\"\n",
    "    \n",
    "    paragraphs = soup.find_all(\"p\", {\"class\" : \"story-body-text story-content\"})\n",
    "    review_text = \" \".join(p.text for p in paragraphs)\n",
    "    \n",
    "    new_url = soup.find(\"div\", {\"class\" : \"imbd-details\"}).a['href']\n",
    "    response = requests.get(new_url)\n",
    "    page = response.text\n",
    "    soup = BeautifulSoup(page, 'lxml')\n",
    "    score = int(float(soup.find(\"div\", {\"class\" : \"ratingValue\"}).span.text))/2\n",
    "    \n",
    "    return [title, review_text, site, score]"
   ]
  },
  {
   "cell_type": "markdown",
   "metadata": {},
   "source": [
    "### grab urls from infinite scroller"
   ]
  },
  {
   "cell_type": "code",
   "execution_count": null,
   "metadata": {
    "collapsed": false
   },
   "outputs": [],
   "source": [
    "from selenium import webdriver\n",
    "from selenium.webdriver.common.keys import Keys\n",
    "from selenium.webdriver.common.by import By\n",
    "\n",
    "driver = webdriver.Chrome()\n",
    "driver.get(\"http://www.nytimes.com/reviews/movies/\")\n",
    "driver.find_element(By.XPATH,'//*[@id=\"stream-search\"]/div[3]/div/div/button').click()\n",
    "driver.execute_script(\"window.scrollTo(0, -document.body.scrollHeight);\")\n",
    "\n",
    "urls = []\n",
    "for i in range(400):\n",
    "    driver.execute_script(\"window.scrollTo(0, document.body.scrollHeight);\") # handle infinite scroller\n",
    "    time.sleep(3)\n",
    "\n",
    "web_obj = driver.find_elements(By.XPATH,'//a[@class=\"story-link\"]')\n",
    "for url in web_obj:\n",
    "    urls.append(url.get_attribute('href'))\n",
    "driver.close()"
   ]
  },
  {
   "cell_type": "markdown",
   "metadata": {},
   "source": [
    "### save url list to json"
   ]
  },
  {
   "cell_type": "code",
   "execution_count": 3,
   "metadata": {
    "collapsed": false
   },
   "outputs": [],
   "source": [
    "import json\n",
    "\n",
    "with open('urls.json', 'w') as f:\n",
    "    json.dump(urls, f)\n",
    "\n",
    "with open('urls.json', 'r') as f:\n",
    "     urls = json.load(f)\n",
    "\n",
    "url_list = zip(range(1,len(urls)+1), urls)"
   ]
  },
  {
   "cell_type": "markdown",
   "metadata": {},
   "source": [
    "### scarping urls in parallel now"
   ]
  },
  {
   "cell_type": "code",
   "execution_count": 22,
   "metadata": {
    "collapsed": false
   },
   "outputs": [],
   "source": [
    "from ipyparallel import Client\n",
    "rc = Client()\n",
    "dv = rc[:]\n",
    "\n",
    "@dv.parallel()\n",
    "def dump_ny(urls):\n",
    "    import requests, time, re\n",
    "    from p4scrape import get_ny\n",
    "    from bs4 import BeautifulSoup\n",
    "    from pymongo import MongoClient\n",
    "    \n",
    "    client = MongoClient()\n",
    "    db = client.review_db\n",
    "    rev4 = db.rev_col4\n",
    "\n",
    "    headers = ['Title', 'Text', 'Site', 'Score']\n",
    "    for url in urls:\n",
    "        i = url[0]\n",
    "        try:\n",
    "            row_dict = dict(zip(headers, get_ny(url[1])))\n",
    "            rev4.insert_one(row_dict)\n",
    "        except:\n",
    "            print \"Error on item %d\" % i\n",
    "            continue\n",
    "        if i % 50 == 0:\n",
    "            print \"Finished Iteration %d\" % i\n",
    "        time.sleep(3)\n",
    "\n",
    "async = dump_ny(url_list)"
   ]
  },
  {
   "cell_type": "code",
   "execution_count": null,
   "metadata": {
    "collapsed": false
   },
   "outputs": [],
   "source": [
    "print async.ready()\n",
    "print async.stdout[0]\n",
    "print async.elapsed\n",
    "\n",
    "# 6185.70496 = 103 minutes = 1 hour 43 minutes"
   ]
  },
  {
   "cell_type": "code",
   "execution_count": null,
   "metadata": {
    "collapsed": false
   },
   "outputs": [],
   "source": [
    "client = MongoClient()\n",
    "print client.database_names()\n",
    "print client.review_db.collection_names()\n",
    "print client.review_db.rev_col4.count()"
   ]
  },
  {
   "cell_type": "markdown",
   "metadata": {},
   "source": [
    "# Read in and combine collections into data frame"
   ]
  },
  {
   "cell_type": "code",
   "execution_count": 3,
   "metadata": {
    "collapsed": false
   },
   "outputs": [],
   "source": [
    "df1 = pd.DataFrame(list(client.review_db.review_col.find()))\n",
    "df2 = pd.DataFrame(list(client.review_db.rev_col2.find()))\n",
    "df3 = pd.DataFrame(list(client.review_db.rev_col4.find()))"
   ]
  },
  {
   "cell_type": "code",
   "execution_count": 4,
   "metadata": {
    "collapsed": false
   },
   "outputs": [
    {
     "name": "stdout",
     "output_type": "stream",
     "text": [
      "<class 'pandas.core.frame.DataFrame'>\n",
      "RangeIndex: 19611 entries, 0 to 19610\n",
      "Data columns (total 4 columns):\n",
      "Score    19611 non-null int64\n",
      "Site     19611 non-null object\n",
      "Text     19611 non-null object\n",
      "Title    19611 non-null object\n",
      "dtypes: int64(1), object(3)\n",
      "memory usage: 612.9+ KB\n"
     ]
    }
   ],
   "source": [
    "df = pd.concat([df1,df2,df3], axis=0)\n",
    "df = df.drop('_id', axis=1)\n",
    "df = df.reset_index(drop=True)\n",
    "\n",
    "df.info()"
   ]
  },
  {
   "cell_type": "code",
   "execution_count": 59,
   "metadata": {
    "collapsed": false
   },
   "outputs": [
    {
     "name": "stdout",
     "output_type": "stream",
     "text": [
      "roger       0.501555\n",
      "guardian    0.274846\n",
      "new york    0.223599\n",
      "Name: Site, dtype: float64\n"
     ]
    },
    {
     "data": {
      "image/png": "[encoded data removed]",
      "text/plain": [
       "<matplotlib.figure.Figure at 0x139671350>"
      ]
     },
     "metadata": {},
     "output_type": "display_data"
    }
   ],
   "source": [
    "print df['Site'].value_counts(normalize=True)\n",
    "df['Site'].value_counts().plot(kind='bar')\n",
    "plt.title('Distribution of Reviews in Data Set');"
   ]
  },
  {
   "cell_type": "code",
   "execution_count": 64,
   "metadata": {
    "collapsed": true
   },
   "outputs": [],
   "source": [
    "from sklearn import cross_validation\n",
    "\n",
    "X = df['Text']\n",
    "y = df['Site']\n",
    "\n",
    "X_train, X_test, y_train, y_test = cross_validation.train_test_split(X, y, test_size=0.25, random_state=42)"
   ]
  },
  {
   "cell_type": "markdown",
   "metadata": {},
   "source": [
    "# Create features"
   ]
  },
  {
   "cell_type": "markdown",
   "metadata": {},
   "source": [
    "### Tfidf and Bag of Words"
   ]
  },
  {
   "cell_type": "code",
   "execution_count": 6,
   "metadata": {
    "collapsed": false
   },
   "outputs": [],
   "source": [
    "from sklearn.feature_extraction.text import CountVectorizer\n",
    "\n",
    "cnt_vectorizer = CountVectorizer(stop_words='english')\n",
    "\n",
    "bow = cnt_vectorizer.fit_transform(X_train)"
   ]
  },
  {
   "cell_type": "code",
   "execution_count": 7,
   "metadata": {
    "collapsed": false
   },
   "outputs": [],
   "source": [
    "from sklearn.feature_extraction.text import TfidfVectorizer\n",
    "\n",
    "vectorizer = TfidfVectorizer(stop_words='english')\n",
    "\n",
    "tfidf = vectorizer.fit_transform(X_train)"
   ]
  },
  {
   "cell_type": "markdown",
   "metadata": {},
   "source": [
    "### LSA"
   ]
  },
  {
   "cell_type": "code",
   "execution_count": 8,
   "metadata": {
    "collapsed": false
   },
   "outputs": [],
   "source": [
    "from sklearn.decomposition import TruncatedSVD\n",
    "\n",
    "lsa = TruncatedSVD(10)\n",
    "dtm_lsa = pd.DataFrame(lsa.fit_transform(tfidf))"
   ]
  },
  {
   "cell_type": "code",
   "execution_count": null,
   "metadata": {
    "collapsed": false
   },
   "outputs": [],
   "source": [
    "# most important words in each topic via SVD\n",
    "sorted(zip(cnt_vectorizer.get_feature_names(), lsa.components_[2]), key=lambda x: x[1], reverse=True)"
   ]
  },
  {
   "cell_type": "code",
   "execution_count": 55,
   "metadata": {
    "collapsed": false
   },
   "outputs": [
    {
     "name": "stdout",
     "output_type": "stream",
     "text": [
      "[ 0.16587528 -0.02484106  0.00096765]\n",
      "[ 0.10102727  0.01008947 -0.02596334]\n",
      "[ 0.12122129  0.0701629   0.01747415]\n"
     ]
    }
   ],
   "source": [
    "# average topic mixtures for each review site\n",
    "print np.mean(dtm_lsa[y_train.reset_index(drop=True) == 'roger'], axis=0).reshape(1,-1)[0][:10]\n",
    "print np.mean(dtm_lsa[y_train.reset_index(drop=True) == 'guardian'], axis=0).reshape(1,-1)[0][:10]\n",
    "print np.mean(dtm_lsa[y_train.reset_index(drop=True) == 'new york'], axis=0).reshape(1,-1)[0][:10]"
   ]
  },
  {
   "cell_type": "markdown",
   "metadata": {},
   "source": [
    "### Non-negative Matrix Factorization"
   ]
  },
  {
   "cell_type": "code",
   "execution_count": 10,
   "metadata": {
    "collapsed": true
   },
   "outputs": [],
   "source": [
    "from sklearn.decomposition import NMF\n",
    "\n",
    "nmf = NMF(10)\n",
    "dtm_nmf = pd.DataFrame(nmf.fit_transform(tfidf))"
   ]
  },
  {
   "cell_type": "code",
   "execution_count": null,
   "metadata": {
    "collapsed": false
   },
   "outputs": [],
   "source": [
    "# most important words in each topic via NMF\n",
    "sorted(zip(cnt_vectorizer.get_feature_names(), nmf.components_[9]), key=lambda x: x[1], reverse=True)"
   ]
  },
  {
   "cell_type": "code",
   "execution_count": 217,
   "metadata": {
    "collapsed": false
   },
   "outputs": [
    {
     "name": "stdout",
     "output_type": "stream",
     "text": [
      "[ 0.01728114  0.0012568   0.01547245  0.00187586  0.01256139  0.014721\n",
      "  0.00840142  0.00930353  0.01927683  0.00343213]\n",
      "[ 0.00421911  0.00112363  0.01252601  0.00213813  0.00715713  0.00810688\n",
      "  0.0074585   0.00520428  0.00646472  0.02742263]\n",
      "[ 0.00559201  0.02884281  0.01237624  0.02324343  0.00941592  0.0076514\n",
      "  0.00792885  0.00593226  0.00673444  0.00346404]\n"
     ]
    }
   ],
   "source": [
    "# average topic mixtures for each review site\n",
    "print np.mean(dtm_nmf[y_train.reset_index(drop=True) == 'roger'], axis=0).reshape(1,-1)[0]\n",
    "print np.mean(dtm_nmf[y_train.reset_index(drop=True) == 'guardian'], axis=0).reshape(1,-1)[0]\n",
    "print np.mean(dtm_nmf[y_train.reset_index(drop=True) == 'new york'], axis=0).reshape(1,-1)[0]"
   ]
  },
  {
   "cell_type": "code",
   "execution_count": 219,
   "metadata": {
    "collapsed": false
   },
   "outputs": [
    {
     "data": {
      "image/png": "[encoded data removed]",
      "text/plain": [
       "<matplotlib.figure.Figure at 0x395a9e4d0>"
      ]
     },
     "metadata": {},
     "output_type": "display_data"
    }
   ],
   "source": [
    "ind = np.arange(10)\n",
    "width = 0.5\n",
    "rog = np.mean(dtm_nmf[y_train.reset_index(drop=True) == 'roger'], axis=0).reshape(1,-1)[0][:10]\n",
    "guar = np.mean(dtm_nmf[y_train.reset_index(drop=True) == 'guardian'], axis=0).reshape(1,-1)[0][:10]\n",
    "nyk = np.mean(dtm_nmf[y_train.reset_index(drop=True) == 'new york'], axis=0).reshape(1,-1)[0][:10]\n",
    "total = rog + guar + nyk\n",
    "\n",
    "plt.bar(ind, rog, width, color='green', label='Ebert')\n",
    "plt.bar(ind, guar, width, color='red', bottom=rog, label='Guardian')\n",
    "plt.bar(ind, nyk, width, color='blue', bottom=rog+guar, label='NY')\n",
    "plt.title('Mean Topic Distribution', fontweight='bold', fontsize=16, y=1.02)\n",
    "plt.xlabel('Topics')\n",
    "plt.ylabel('Proportion')\n",
    "plt.xlim([0,9.5])\n",
    "plt.xticks(np.arange(1,11)-width*1.5, np.arange(1,11))\n",
    "plt.legend(bbox_to_anchor=(1.34, 1.025))\n",
    "plt.show()"
   ]
  },
  {
   "cell_type": "code",
   "execution_count": 224,
   "metadata": {
    "collapsed": false
   },
   "outputs": [],
   "source": [
    "topic_df = pd.DataFrame({\"topic\": range(1, 11), \"NY\": 100*nyk/total, \"Guardian\": 100*guar/total, \n",
    "                         \"Ebert\": 100*rog/total})\n",
    "topic_df.to_json(\"topics.json\", orient=\"records\")"
   ]
  },
  {
   "cell_type": "code",
   "execution_count": 225,
   "metadata": {
    "collapsed": false
   },
   "outputs": [
    {
     "name": "stdout",
     "output_type": "stream",
     "text": [
      "       Ebert   Guardian         NY  topic\n",
      "0  63.786268  15.573103  20.640630      1\n",
      "1   4.025221   3.598709  92.376070      2\n",
      "2  38.322147  31.024412  30.653441      3\n",
      "3   6.882017   7.844224  85.273759      4\n",
      "4  43.115264  24.565880  32.318856      5\n",
      "5  48.298387  26.597997  25.103616      6\n",
      "6  35.316755  31.353020  33.330225      7\n",
      "7  45.516148  25.461171  29.022681      8\n",
      "8  59.357166  19.906156  20.736678      9\n",
      "9  10.000732  79.905557  10.093711     10\n"
     ]
    }
   ],
   "source": [
    "with open(\"topics.json\", 'r') as f:\n",
    "    topics_json = json.load(f)\n",
    "    \n",
    "print pd.DataFrame(topics_json)"
   ]
  },
  {
   "cell_type": "markdown",
   "metadata": {},
   "source": [
    "### LDA"
   ]
  },
  {
   "cell_type": "code",
   "execution_count": 13,
   "metadata": {
    "collapsed": false
   },
   "outputs": [],
   "source": [
    "id2word = dict((v, k) for k, v in cnt_vectorizer.vocabulary_.iteritems())\n",
    "\n",
    "corpus = matutils.Sparse2Corpus(bow, documents_columns=False)\n",
    "lda = models.LdaModel(corpus, num_topics=3, id2word=id2word, passes=10)"
   ]
  },
  {
   "cell_type": "code",
   "execution_count": 14,
   "metadata": {
    "collapsed": false,
    "scrolled": false
   },
   "outputs": [
    {
     "data": {
      "text/plain": [
       "[(0,\n",
       "  u'0.007*film + 0.005*like + 0.004*mr + 0.004*movie + 0.003*director + 0.003*just + 0.002*new + 0.002*life + 0.002*time + 0.002*ms + 0.002*story + 0.002*family + 0.002*young + 0.002*love + 0.002*mother + 0.002*comedy + 0.002*way + 0.002*self + 0.002*character + 0.002*old + 0.002*played + 0.001*characters + 0.001*year + 0.001*directed + 0.001*father + 0.001*does + 0.001*little + 0.001*makes + 0.001*plays + 0.001*sex + 0.001*rated + 0.001*make + 0.001*drama + 0.001*work + 0.001*home + 0.001*best + 0.001*woman + 0.001*world + 0.001*writer + 0.001*kind + 0.001*good + 0.001*doesn + 0.001*scene + 0.001*parents + 0.001*adult + 0.001*school + 0.001*women + 0.001*high + 0.001*son + 0.001*david'),\n",
       " (1,\n",
       "  u'0.013*movie + 0.007*film + 0.007*like + 0.005*man + 0.004*time + 0.004*way + 0.004*story + 0.003*life + 0.003*good + 0.003*people + 0.003*characters + 0.003*doesn + 0.003*know + 0.003*little + 0.003*does + 0.003*scene + 0.003*just + 0.003*love + 0.003*movies + 0.002*make + 0.002*character + 0.002*don + 0.002*woman + 0.002*old + 0.002*scenes + 0.002*new + 0.002*great + 0.002*young + 0.002*plot + 0.002*think + 0.002*right + 0.002*work + 0.002*named + 0.002*real + 0.002*really + 0.002*years + 0.002*long + 0.002*lot + 0.002*makes + 0.002*played + 0.002*best + 0.002*says + 0.002*films + 0.002*wife + 0.002*day + 0.002*father + 0.002*end + 0.002*men + 0.002*big + 0.002*want'),\n",
       " (2,\n",
       "  u'0.010*film + 0.005*mr + 0.005*like + 0.003*world + 0.003*documentary + 0.003*time + 0.003*movie + 0.002*new + 0.002*story + 0.002*war + 0.002*man + 0.002*director + 0.002*action + 0.002*life + 0.002*music + 0.002*films + 0.002*years + 0.002*just + 0.002*work + 0.001*american + 0.001*people + 0.001*history + 0.001*human + 0.001*footage + 0.001*great + 0.001*way + 0.001*political + 0.001*art + 0.001*men + 0.001*long + 0.001*camera + 0.001*old + 0.001*make + 0.001*death + 0.001*look + 0.001*black + 0.001*set + 0.001*white + 0.001*star + 0.001*power + 0.001*screen + 0.001*including + 0.001*images + 0.001*little + 0.001*space + 0.001*early + 0.001*scenes + 0.001*does + 0.001*minutes + 0.001*cinema')]"
      ]
     },
     "execution_count": 14,
     "metadata": {},
     "output_type": "execute_result"
    }
   ],
   "source": [
    "lda.print_topics(num_words=50)"
   ]
  },
  {
   "cell_type": "code",
   "execution_count": 19,
   "metadata": {
    "collapsed": false
   },
   "outputs": [],
   "source": [
    "# convert topic vectors into data frame columns\n",
    "def topic2df(topic_vec, topic_num):\n",
    "    topic_vec_list = []\n",
    "    for row in topic_vec:\n",
    "        d = dict(row)\n",
    "        for i in range(topic_num):\n",
    "            if i not in d:\n",
    "                d[i] = 0\n",
    "        topic_vec_list.append(d)\n",
    "    topics = pd.DataFrame(topic_vec_list)\n",
    "    topics.columns = ['t%d' % i for i in range(topic_num)]\n",
    "    return topics\n",
    "\n",
    "topic_vec = list(lda[corpus])\n",
    "topics = topic2df(topic_vec, 3)"
   ]
  },
  {
   "cell_type": "code",
   "execution_count": 20,
   "metadata": {
    "collapsed": false
   },
   "outputs": [
    {
     "name": "stdout",
     "output_type": "stream",
     "text": [
      "             t0        t1        t2\n",
      "13652  0.288044  0.036220  0.675736\n",
      "8540   0.673582  0.325336  0.000000\n",
      "10771  0.000000  0.670339  0.328130\n",
      "11153  0.741384  0.000000  0.254616\n",
      "10441  0.619808  0.286394  0.093798\n",
      "8591   0.142221  0.323173  0.534606\n",
      "11150  0.778500  0.193941  0.027559\n",
      "7425   0.167905  0.830381  0.000000\n",
      "7035   0.037295  0.898570  0.064135\n",
      "6316   0.838714  0.155790  0.000000\n",
      "\n",
      "[[ 0.13576757  0.70181643  0.16123351]]\n",
      "[[ 0.49602977  0.15037988  0.35142461]]\n",
      "[[ 0.48153292  0.16080821  0.35664188]]\n"
     ]
    }
   ],
   "source": [
    "print topics.sample(10)\n",
    "print\n",
    "\n",
    "# average topic mixtures for each review site\n",
    "print np.mean(topics[y_train.reset_index(drop=True) == 'roger'], axis=0).reshape(1,-1)\n",
    "print np.mean(topics[y_train.reset_index(drop=True) == 'guardian'], axis=0).reshape(1,-1)\n",
    "print np.mean(topics[y_train.reset_index(drop=True) == 'new york'], axis=0).reshape(1,-1)"
   ]
  },
  {
   "cell_type": "markdown",
   "metadata": {},
   "source": [
    "### K-means clustering"
   ]
  },
  {
   "cell_type": "code",
   "execution_count": 47,
   "metadata": {
    "collapsed": false
   },
   "outputs": [
    {
     "data": {
      "image/png": "[encoded data removed]",
      "text/plain": [
       "<matplotlib.figure.Figure at 0x121651050>"
      ]
     },
     "metadata": {},
     "output_type": "display_data"
    }
   ],
   "source": [
    "from sklearn import preprocessing, cluster\n",
    "\n",
    "dtm_lsa = pd.DataFrame(preprocessing.Normalizer(copy=False).fit_transform(dtm_lsa))\n",
    "\n",
    "cls = cluster.KMeans(n_clusters=3)\n",
    "cls.fit(dtm_lsa)\n",
    "\n",
    "clusters = cls.predict(dtm_lsa)\n",
    "cls_num = np.unique(clusters)\n",
    "\n",
    "fig, ax = plt.subplots(2, 2, figsize=(10,10))\n",
    "axes = ax.flat\n",
    "for i, a in zip(cls_num, axes):\n",
    "    a.bar(range(3), df.ix[X_train[clusters == i].index, 'Site'].value_counts(), \n",
    "         tick_label=df.ix[X_train[clusters == i].index, 'Site'].value_counts().index, align='center')"
   ]
  },
  {
   "cell_type": "markdown",
   "metadata": {},
   "source": [
    "### Exploring with Word2Vec"
   ]
  },
  {
   "cell_type": "code",
   "execution_count": 10,
   "metadata": {
    "collapsed": true
   },
   "outputs": [],
   "source": [
    "texts = [[word for word in document.lower().split()] for document in X_train]\n",
    "\n",
    "model = models.Word2Vec(texts, size=100, window=5, min_count=5, workers=4)"
   ]
  },
  {
   "cell_type": "code",
   "execution_count": 11,
   "metadata": {
    "collapsed": false
   },
   "outputs": [
    {
     "data": {
      "text/plain": [
       "[(u'complexity', 0.8557219505310059),\n",
       " (u'emotion', 0.8229695558547974),\n",
       " (u'urgency', 0.8223235607147217),\n",
       " (u'strength', 0.8167417049407959),\n",
       " (u'personality', 0.8142927885055542),\n",
       " (u'nuance', 0.8088704943656921),\n",
       " (u'subtlety', 0.806943416595459),\n",
       " (u'imagination', 0.7932906150817871),\n",
       " (u'humanity', 0.7770246267318726),\n",
       " (u'clarity', 0.7763187289237976)]"
      ]
     },
     "execution_count": 11,
     "metadata": {},
     "output_type": "execute_result"
    }
   ],
   "source": [
    "model.most_similar('depth')"
   ]
  },
  {
   "cell_type": "markdown",
   "metadata": {},
   "source": [
    "# Transforming test set"
   ]
  },
  {
   "cell_type": "code",
   "execution_count": 15,
   "metadata": {
    "collapsed": false
   },
   "outputs": [],
   "source": [
    "bow_test = cnt_vectorizer.transform(X_test)\n",
    "tfidf_test = vectorizer.transform(X_test)"
   ]
  },
  {
   "cell_type": "code",
   "execution_count": 16,
   "metadata": {
    "collapsed": true
   },
   "outputs": [],
   "source": [
    "dtm_lsa_test = pd.DataFrame(lsa.transform(tfidf_test))\n",
    "dtm_nmf_test = pd.DataFrame(nmf.transform(tfidf_test))"
   ]
  },
  {
   "cell_type": "code",
   "execution_count": 21,
   "metadata": {
    "collapsed": false
   },
   "outputs": [],
   "source": [
    "corpus_test = matutils.Sparse2Corpus(bow_test, documents_columns=False)\n",
    "topic_vec_test = list(lda[corpus_test])\n",
    "topics_test = topic2df(topic_vec_test, 3)"
   ]
  },
  {
   "cell_type": "markdown",
   "metadata": {},
   "source": [
    "# Trying to predict which site the text came from"
   ]
  },
  {
   "cell_type": "code",
   "execution_count": 65,
   "metadata": {
    "collapsed": false
   },
   "outputs": [
    {
     "name": "stdout",
     "output_type": "stream",
     "text": [
      "CV Accuracy: 0.896042772764\n",
      "CV F1: 0.897625891421\n",
      "Test Accuracy: 0.902916581685\n",
      "Test F1: 0.903885848988\n",
      "[[1243   25   92]\n",
      " [  78  979   38]\n",
      " [ 203   40 2205]]\n",
      "\n",
      "CV Accuracy: 0.868575434716\n",
      "CV F1: 0.86879765897\n",
      "Test Accuracy: 0.857638180706\n",
      "Test F1: 0.855722858933\n",
      "[[1077    4  279]\n",
      " [  95  798  202]\n",
      " [ 114    4 2330]]\n",
      "\n",
      "CV Accuracy: 0.924395157795\n",
      "CV F1: 0.925184901036\n",
      "Test Accuracy: 0.925759738935\n",
      "Test F1: 0.925700130819\n",
      "[[1214   27  119]\n",
      " [  43  999   53]\n",
      " [  99   23 2326]]\n",
      "\n",
      "CV Accuracy: 0.936429568507\n",
      "CV F1: 0.936514872207\n",
      "Test Accuracy: 0.932898225576\n",
      "Test F1: 0.932692345964\n",
      "[[1221   21  118]\n",
      " [  37  992   66]\n",
      " [  69   18 2361]]\n"
     ]
    }
   ],
   "source": [
    "from sklearn import linear_model, ensemble\n",
    "from sklearn.naive_bayes import GaussianNB\n",
    "from sklearn import metrics\n",
    "import xgboost as xgb\n",
    "\n",
    "d = pd.concat([dtm_nmf, topics], axis=1)\n",
    "d_test = pd.concat([dtm_nmf_test, topics_test], axis=1)\n",
    "\n",
    "# order of columns in confusion matrix: guardian, new york, roger ebert\n",
    "\n",
    "nb = GaussianNB()\n",
    "nb.fit(d, y_train)\n",
    "print \"CV Accuracy: %s\" % np.mean(cross_validation.cross_val_score(nb, d, y_train, cv=5))\n",
    "print \"CV F1: %s\" % np.mean(cross_validation.cross_val_score(nb, d, y_train, scoring='f1_weighted', cv=5))\n",
    "print \"Test Accuracy: %s\" % nb.score(d_test, y_test)\n",
    "predictions = nb.predict(d_test)\n",
    "print \"Test F1: %s\" % metrics.f1_score(y_test, predictions, average='weighted')\n",
    "print metrics.confusion_matrix(y_test, predictions)\n",
    "print\n",
    "\n",
    "lr = linear_model.LogisticRegression()\n",
    "lr.fit(d, y_train)\n",
    "print \"CV Accuracy: %s\" % np.mean(cross_validation.cross_val_score(lr, d, y_train, cv=5))\n",
    "print \"CV F1: %s\" % np.mean(cross_validation.cross_val_score(lr, d, y_train, scoring='f1_weighted', cv=5))\n",
    "print \"Test Accuracy: %s\" % lr.score(d_test, y_test)\n",
    "predictions = lr.predict(d_test)\n",
    "print \"Test F1: %s\" % metrics.f1_score(y_test, predictions, average='weighted')\n",
    "print metrics.confusion_matrix(y_test, predictions)\n",
    "print\n",
    "\n",
    "rf = ensemble.RandomForestClassifier()\n",
    "rf.fit(d, y_train)\n",
    "print \"CV Accuracy: %s\" % np.mean(cross_validation.cross_val_score(rf, d, y_train, cv=5))\n",
    "print \"CV F1: %s\" % np.mean(cross_validation.cross_val_score(rf, d, y_train, scoring='f1_weighted', cv=5))\n",
    "print \"Test Accuracy: %s\" % rf.score(d_test, y_test)\n",
    "predictions = rf.predict(d_test)\n",
    "print \"Test F1: %s\" % metrics.f1_score(y_test, predictions, average='weighted')\n",
    "print metrics.confusion_matrix(y_test, predictions)\n",
    "print\n",
    "\n",
    "xgb = xgb.XGBClassifier()\n",
    "xgb.fit(d, y_train)\n",
    "print \"CV Accuracy: %s\" % np.mean(cross_validation.cross_val_score(xgb, d, y_train, cv=5))\n",
    "print \"CV F1: %s\" % np.mean(cross_validation.cross_val_score(xgb, d, y_train, scoring='f1_weighted', cv=5))\n",
    "print \"Test Accuracy: %s\" % xgb.score(d_test, y_test)\n",
    "predictions = xgb.predict(d_test)\n",
    "print \"Test F1: %s\" % metrics.f1_score(y_test, predictions, average='weighted')\n",
    "print metrics.confusion_matrix(y_test, predictions)"
   ]
  }
 ],
 "metadata": {
  "kernelspec": {
   "display_name": "Python 2",
   "language": "python",
   "name": "python2"
  },
  "language_info": {
   "codemirror_mode": {
    "name": "ipython",
    "version": 2
   },
   "file_extension": ".py",
   "mimetype": "text/x-python",
   "name": "python",
   "nbconvert_exporter": "python",
   "pygments_lexer": "ipython2",
   "version": "2.7.12"
  }
 },
 "nbformat": 4,
 "nbformat_minor": 0
}
